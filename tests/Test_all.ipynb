{
 "cells": [
  {
   "cell_type": "code",
   "execution_count": 1,
   "metadata": {},
   "outputs": [],
   "source": [
    "import findspark\n",
    "findspark.init()\n",
    "from pyspark import SparkContext as sc\n",
    "\n",
    "import os\n",
    "\n",
    "from pyspark.sql import SQLContext, Row\n",
    "\n",
    "import pyspark\n",
    "\n",
    "import sys\n",
    "import string\n",
    "from csv import reader\n",
    "from functools import reduce\n",
    "from pyspark.sql import functions as f\n",
    "from collections import defaultdict\n",
    "import datetime\n",
    "\n",
    "sys.path.insert(0, '../src')\n",
    "from tableCollections import TableCollections\n",
    "import os"
   ]
  },
  {
   "cell_type": "code",
   "execution_count": 2,
   "metadata": {},
   "outputs": [],
   "source": [
    "data_path = ['data']\n",
    "parking_filepath = os.sep.join(data_path + ['parking.csv'])\n",
    "\n",
    "sc = sc(appName=\"Test_all\")\n",
    "sqlContext = SQLContext(sc)"
   ]
  },
  {
   "cell_type": "code",
   "execution_count": 5,
   "metadata": {},
   "outputs": [],
   "source": [
    "parkingTable = sqlContext.read.format('csv').options(header='true',inferschema='true').load('/user/ecc290/HW1data/parking-violations-header.csv')"
   ]
  },
  {
   "cell_type": "code",
   "execution_count": 7,
   "metadata": {},
   "outputs": [],
   "source": [
    "openTable = sqlContext.read.format('csv').options(header='true',inferschema='true').load('/user/ecc290/HW1data/open-violations-header.csv')"
   ]
  },
  {
   "cell_type": "code",
   "execution_count": 8,
   "metadata": {},
   "outputs": [],
   "source": [
    "tc = TableCollections(sqlContext, sc)"
   ]
  },
  {
   "cell_type": "code",
   "execution_count": 9,
   "metadata": {},
   "outputs": [
    {
     "name": "stdout",
     "output_type": "stream",
     "text": [
      "num metadata file exists for table parking\n",
      "timestamp metadata file exists for table parking\n",
      "string metadata file exists for table parking\n"
     ]
    }
   ],
   "source": [
    "tc.register(parkingTable, \"parking\")"
   ]
  },
  {
   "cell_type": "code",
   "execution_count": 11,
   "metadata": {},
   "outputs": [
    {
     "name": "stdout",
     "output_type": "stream",
     "text": [
      "num metadata file exists for table open\n",
      "string metadata file exists for table open\n"
     ]
    }
   ],
   "source": [
    "tc.register(openTable, \"open\")"
   ]
  },
  {
   "cell_type": "code",
   "execution_count": 10,
   "metadata": {},
   "outputs": [
    {
     "name": "stdout",
     "output_type": "stream",
     "text": [
      "+----------+---------+\n",
      "|   colName|tableName|\n",
      "+----------+---------+\n",
      "|issue_date|  parking|\n",
      "+----------+---------+\n",
      "\n"
     ]
    }
   ],
   "source": [
    "import datetime\n",
    "tc.timeColWithinRange(datetime.datetime(1994,1,1), datetime.datetime(2018,5,1)).show()"
   ]
  },
  {
   "cell_type": "code",
   "execution_count": 14,
   "metadata": {},
   "outputs": [
    {
     "name": "stdout",
     "output_type": "stream",
     "text": [
      "+------------------+---------+\n",
      "|           colName|tableName|\n",
      "+------------------+---------+\n",
      "|violation_location|  parking|\n",
      "|violation_precinct|  parking|\n",
      "|   issuer_precinct|  parking|\n",
      "|       issuer_code|  parking|\n",
      "|    violation_code|  parking|\n",
      "|      vehicle_year|  parking|\n",
      "|  reduction_amount|     open|\n",
      "|   interest_amount|     open|\n",
      "|    payment_amount|     open|\n",
      "|    penalty_amount|     open|\n",
      "|       fine_amount|     open|\n",
      "|        amount_due|     open|\n",
      "|          precinct|     open|\n",
      "+------------------+---------+\n",
      "\n"
     ]
    }
   ],
   "source": [
    "tc.numColWithinRange(-1000000, 10000000).show()"
   ]
  },
  {
   "cell_type": "code",
   "execution_count": 16,
   "metadata": {},
   "outputs": [
    {
     "name": "stdout",
     "output_type": "stream",
     "text": [
      "+---------+------------------+----+-----+\n",
      "|tableName|           colName| min|  max|\n",
      "+---------+------------------+----+-----+\n",
      "|  parking|violation_location|-1.0|967.0|\n",
      "|  parking|violation_precinct| 0.0|967.0|\n",
      "|     open|  reduction_amount| 0.0|545.0|\n",
      "|     open|        amount_due| 0.0|594.1|\n",
      "+---------+------------------+----+-----+\n",
      "\n"
     ]
    }
   ],
   "source": [
    "colList= [\"parking^violation_location\",\"parking^violation_precinct\", \"open^reduction_amount\", \"open^amount_due\"]\n",
    "tc.getNumRange(colList).show()"
   ]
  },
  {
   "cell_type": "code",
   "execution_count": 19,
   "metadata": {},
   "outputs": [
    {
     "name": "stdout",
     "output_type": "stream",
     "text": [
      "+---------+----------+-------------------+-------------------+\n",
      "|tableName|   colName|                min|                max|\n",
      "+---------+----------+-------------------+-------------------+\n",
      "|  parking|issue_date|2016-03-01 00:00:00|2016-03-31 00:00:00|\n",
      "+---------+----------+-------------------+-------------------+\n",
      "\n"
     ]
    }
   ],
   "source": [
    "colList= [\"parking^issue_date\"]\n",
    "tc.getTimeRange(colList).show()"
   ]
  },
  {
   "cell_type": "code",
   "execution_count": 22,
   "metadata": {},
   "outputs": [
    {
     "name": "stdout",
     "output_type": "stream",
     "text": [
      "+------------------+---------+------------------+\n",
      "|           colName|tableName|               iou|\n",
      "+------------------+---------+------------------+\n",
      "|violation_location|  parking|               1.0|\n",
      "|violation_precinct|  parking|0.9989669421487604|\n",
      "|   issuer_precinct|  parking| 0.973816717019134|\n",
      "|          precinct|     open|0.8316115702479339|\n",
      "|        amount_due|     open|0.6137396694214876|\n",
      "|    payment_amount|     open|0.6099586776859505|\n",
      "|  reduction_amount|     open|0.5630165289256198|\n",
      "|       fine_amount|     open| 0.506198347107438|\n",
      "|      vehicle_year|  parking|0.4671497584541063|\n",
      "|    violation_code|  parking|0.1012396694214876|\n",
      "+------------------+---------+------------------+\n",
      "\n"
     ]
    }
   ],
   "source": [
    "tc.getSimilarNumCols(\"parking^violation_location\", threshold=0.1).show()"
   ]
  },
  {
   "cell_type": "code",
   "execution_count": 25,
   "metadata": {},
   "outputs": [
    {
     "name": "stdout",
     "output_type": "stream",
     "text": [
      "+---------+-----+\n",
      "|col_value|count|\n",
      "+---------+-----+\n",
      "|  12384MG|    2|\n",
      "|   2AL711|    2|\n",
      "|   XAGM54|    2|\n",
      "|  24781MG|    2|\n",
      "|   EVRB25|    2|\n",
      "|  31590ME|    2|\n",
      "|  FZA5037|    2|\n",
      "|  VFL2464|    2|\n",
      "|  VKD5120|    2|\n",
      "|   Y69AVV|    2|\n",
      "|  FRJ7147|    2|\n",
      "|  FZK8632|    2|\n",
      "|  26333MH|    2|\n",
      "|   XCSB43|    2|\n",
      "|  92429JY|    2|\n",
      "|  58730MC|    2|\n",
      "|  ETU2643|    2|\n",
      "|  EHD5439|    2|\n",
      "|  2267754|    2|\n",
      "|   D57CVL|    2|\n",
      "+---------+-----+\n",
      "only showing top 20 rows\n",
      "\n"
     ]
    }
   ],
   "source": [
    "colList= [\"parking^plate_id\",\"open^plate\"]\n",
    "tc.returnIntersecWithinCols(colList).show()"
   ]
  },
  {
   "cell_type": "code",
   "execution_count": 26,
   "metadata": {},
   "outputs": [
    {
     "name": "stdout",
     "output_type": "stream",
     "text": [
      "+----------+----+--------+\n",
      "| col_value| cnt|col_name|\n",
      "+----------+----+--------+\n",
      "|BLANKPLATE|1203|plate_id|\n",
      "|BLANKPLATE| 872|   plate|\n",
      "|       N/A| 155|plate_id|\n",
      "|       N/A| 149|   plate|\n",
      "|    AP501F| 138|plate_id|\n",
      "+----------+----+--------+\n",
      "\n"
     ]
    }
   ],
   "source": [
    "colList= [\"parking^plate_id\",\"open^plate\"]\n",
    "tc.frequentVals(colList, 5).show()"
   ]
  },
  {
   "cell_type": "code",
   "execution_count": 28,
   "metadata": {},
   "outputs": [
    {
     "name": "stdout",
     "output_type": "stream",
     "text": [
      "+---------+---+--------+\n",
      "|col_value|cnt|col_name|\n",
      "+---------+---+--------+\n",
      "|  BML4037|  1|plate_id|\n",
      "| T655130C|  1|plate_id|\n",
      "| T649453C|  1|plate_id|\n",
      "|  CHU7059|  1|plate_id|\n",
      "|   D57CVL|  1|plate_id|\n",
      "|  EWX5634|  1|plate_id|\n",
      "|  30437MA|  1|plate_id|\n",
      "|  DUA2419|  1|plate_id|\n",
      "|   Z77FJX|  1|plate_id|\n",
      "|  ERG9119|  1|plate_id|\n",
      "|  EWD7040|  1|plate_id|\n",
      "|  FYW3414|  1|plate_id|\n",
      "|  DRV8081|  1|plate_id|\n",
      "|  FRJ7147|  1|plate_id|\n",
      "|  39034MG|  1|plate_id|\n",
      "|   Z41DYN|  1|plate_id|\n",
      "|   N77FNS|  1|plate_id|\n",
      "|   E91EYH|  1|plate_id|\n",
      "|  CPZ3300|  1|plate_id|\n",
      "|  EHD5439|  1|plate_id|\n",
      "+---------+---+--------+\n",
      "only showing top 20 rows\n",
      "\n",
      "+---------+---+--------+\n",
      "|col_value|cnt|col_name|\n",
      "+---------+---+--------+\n",
      "|  GWM2129|  1|   plate|\n",
      "|  GVS9200|  1|   plate|\n",
      "|  ACL4445|  1|   plate|\n",
      "|  GGJ4899|  1|   plate|\n",
      "|  HBH9968|  1|   plate|\n",
      "|   595ZSY|  1|   plate|\n",
      "|  BVS5686|  1|   plate|\n",
      "|  HDU4451|  1|   plate|\n",
      "|  20213MA|  1|   plate|\n",
      "|  EBE1052|  1|   plate|\n",
      "|  GDN2939|  1|   plate|\n",
      "|  GFF4794|  1|   plate|\n",
      "|  55411JS|  1|   plate|\n",
      "|  HES4521|  1|   plate|\n",
      "|  GKL8441|  1|   plate|\n",
      "|  JKN8882|  1|   plate|\n",
      "|    ALS25|  1|   plate|\n",
      "|  GUR5001|  1|   plate|\n",
      "|  GXG1203|  1|   plate|\n",
      "|  EPE1908|  1|   plate|\n",
      "+---------+---+--------+\n",
      "only showing top 20 rows\n",
      "\n"
     ]
    }
   ],
   "source": [
    "colList= [\"parking^plate_id\",\"open^plate\"]\n",
    "tc.returnOutliers(colList, 0.01)"
   ]
  },
  {
   "cell_type": "code",
   "execution_count": 32,
   "metadata": {},
   "outputs": [
    {
     "name": "stdout",
     "output_type": "stream",
     "text": [
      "+--------+----------+\n",
      "|col_name|table_name|\n",
      "+--------+----------+\n",
      "|   plate|      open|\n",
      "+--------+----------+\n",
      "\n"
     ]
    }
   ],
   "source": [
    "colList= [\"parking^plate_id\",\"open^plate\"]\n",
    "withList = ['CPZ3300']\n",
    "withoutList = ['GTR366A']\n",
    "tc.colsWithAndWithout(colList, withList, withoutList).show()"
   ]
  },
  {
   "cell_type": "code",
   "execution_count": 34,
   "metadata": {},
   "outputs": [
    {
     "name": "stdout",
     "output_type": "stream",
     "text": [
      "+--------+------+\n",
      "|col_name| count|\n",
      "+--------+------+\n",
      "|   plate|212692|\n",
      "|plate_id|607520|\n",
      "+--------+------+\n",
      "\n"
     ]
    }
   ],
   "source": [
    "tc.getCardinality(colList).show()"
   ]
  },
  {
   "cell_type": "code",
   "execution_count": 35,
   "metadata": {},
   "outputs": [
    {
     "data": {
      "text/plain": [
       "['plate',\n",
       " 'license_type',\n",
       " 'county',\n",
       " 'state',\n",
       " 'issuing_agency',\n",
       " 'violation',\n",
       " 'violation_status',\n",
       " 'issue_date',\n",
       " 'violation_time',\n",
       " 'judgment_entry_date']"
      ]
     },
     "execution_count": 35,
     "metadata": {},
     "output_type": "execute_result"
    }
   ],
   "source": [
    "tc.getColsOfDatatype(openTable, 'string')"
   ]
  },
  {
   "cell_type": "code",
   "execution_count": 38,
   "metadata": {},
   "outputs": [
    {
     "name": "stdout",
     "output_type": "stream",
     "text": [
      "[nltk_data] Downloading package wordnet to /home/jp4989/nltk_data...\n",
      "[nltk_data]   Unzipping corpora/wordnet.zip.\n"
     ]
    },
    {
     "data": {
      "text/plain": [
       "True"
      ]
     },
     "execution_count": 38,
     "metadata": {},
     "output_type": "execute_result"
    }
   ],
   "source": [
    "#Necessary to use nltk library\n",
    "import nltk\n",
    "nltk.download('wordnet')"
   ]
  },
  {
   "cell_type": "code",
   "execution_count": 52,
   "metadata": {},
   "outputs": [],
   "source": [
    "pandasParking = parkingTable.toPandas()\n",
    "pandasOpen = openTable.toPandas()"
   ]
  },
  {
   "cell_type": "code",
   "execution_count": 60,
   "metadata": {},
   "outputs": [
    {
     "ename": "TypeError",
     "evalue": "unorderable types: NoneType() > float()",
     "output_type": "error",
     "traceback": [
      "\u001b[0;31m---------------------------------------------------------------------------\u001b[0m",
      "\u001b[0;31mTypeError\u001b[0m                                 Traceback (most recent call last)",
      "\u001b[0;32m<ipython-input-60-0a8a7b225ef5>\u001b[0m in \u001b[0;36m<module>\u001b[0;34m()\u001b[0m\n\u001b[0;32m----> 1\u001b[0;31m \u001b[0mtc\u001b[0m\u001b[0;34m.\u001b[0m\u001b[0mcolsNameSimilarity\u001b[0m\u001b[0;34m(\u001b[0m\u001b[0mopenTable\u001b[0m\u001b[0;34m,\u001b[0m \u001b[0mcategory\u001b[0m \u001b[0;34m=\u001b[0m \u001b[0;32mNone\u001b[0m\u001b[0;34m,\u001b[0m \u001b[0mdf2\u001b[0m\u001b[0;34m=\u001b[0m\u001b[0mparkingTable\u001b[0m\u001b[0;34m)\u001b[0m\u001b[0;34m.\u001b[0m\u001b[0mshow\u001b[0m\u001b[0;34m(\u001b[0m\u001b[0;34m)\u001b[0m\u001b[0;34m\u001b[0m\u001b[0m\n\u001b[0m",
      "\u001b[0;32m/scratch/jp4989/bigdataproject/src/tableCollections.py\u001b[0m in \u001b[0;36mcolsNameSimilarity\u001b[0;34m(self, df, category, df2)\u001b[0m\n\u001b[1;32m    555\u001b[0m                                 \u001b[0mscore\u001b[0m\u001b[0;34m.\u001b[0m\u001b[0mappend\u001b[0m\u001b[0;34m(\u001b[0m\u001b[0mcolName_sys_1\u001b[0m\u001b[0;34m[\u001b[0m\u001b[0;36m0\u001b[0m\u001b[0;34m]\u001b[0m\u001b[0;34m.\u001b[0m\u001b[0mpath_similarity\u001b[0m\u001b[0;34m(\u001b[0m\u001b[0mcolName_sys_2\u001b[0m\u001b[0;34m[\u001b[0m\u001b[0;36m0\u001b[0m\u001b[0;34m]\u001b[0m\u001b[0;34m)\u001b[0m\u001b[0;34m)\u001b[0m\u001b[0;34m\u001b[0m\u001b[0m\n\u001b[1;32m    556\u001b[0m                     \u001b[0;32mif\u001b[0m\u001b[0;34m(\u001b[0m\u001b[0mscore\u001b[0m \u001b[0;34m!=\u001b[0m \u001b[0;34m[\u001b[0m\u001b[0;34m]\u001b[0m\u001b[0;34m)\u001b[0m\u001b[0;34m:\u001b[0m\u001b[0;34m\u001b[0m\u001b[0m\n\u001b[0;32m--> 557\u001b[0;31m                         \u001b[0mscore\u001b[0m \u001b[0;34m=\u001b[0m \u001b[0mmax\u001b[0m\u001b[0;34m(\u001b[0m\u001b[0mscore\u001b[0m\u001b[0;34m)\u001b[0m\u001b[0;34m\u001b[0m\u001b[0m\n\u001b[0m\u001b[1;32m    558\u001b[0m                     \u001b[0;32melse\u001b[0m\u001b[0;34m:\u001b[0m\u001b[0;34m\u001b[0m\u001b[0m\n\u001b[1;32m    559\u001b[0m                         \u001b[0mscore\u001b[0m \u001b[0;34m=\u001b[0m \u001b[0;36m0\u001b[0m\u001b[0;34m\u001b[0m\u001b[0m\n",
      "\u001b[0;31mTypeError\u001b[0m: unorderable types: NoneType() > float()"
     ]
    }
   ],
   "source": [
    "tc.colsNameSimilarity(openTable, category = None, df2=parkingTable).show()"
   ]
  },
  {
   "cell_type": "code",
   "execution_count": 59,
   "metadata": {},
   "outputs": [
    {
     "ename": "TypeError",
     "evalue": "'numpy.dtype' object is not iterable",
     "output_type": "error",
     "traceback": [
      "\u001b[0;31m---------------------------------------------------------------------------\u001b[0m",
      "\u001b[0;31mTypeError\u001b[0m                                 Traceback (most recent call last)",
      "\u001b[0;32m<ipython-input-59-4331a5284790>\u001b[0m in \u001b[0;36m<module>\u001b[0;34m()\u001b[0m\n\u001b[0;32m----> 1\u001b[0;31m \u001b[0mtc\u001b[0m\u001b[0;34m.\u001b[0m\u001b[0mcolsNameSimilarity\u001b[0m\u001b[0;34m(\u001b[0m\u001b[0mpandasOpen\u001b[0m\u001b[0;34m,\u001b[0m \u001b[0mcategory\u001b[0m \u001b[0;34m=\u001b[0m \u001b[0;32mNone\u001b[0m\u001b[0;34m,\u001b[0m \u001b[0mdf2\u001b[0m\u001b[0;34m=\u001b[0m\u001b[0mpandasParking\u001b[0m\u001b[0;34m)\u001b[0m\u001b[0;34m.\u001b[0m\u001b[0mshow\u001b[0m\u001b[0;34m(\u001b[0m\u001b[0;34m)\u001b[0m\u001b[0;34m\u001b[0m\u001b[0m\n\u001b[0m",
      "\u001b[0;32m/scratch/jp4989/bigdataproject/src/tableCollections.py\u001b[0m in \u001b[0;36mcolsNameSimilarity\u001b[0;34m(self, df, category, df2)\u001b[0m\n\u001b[1;32m    511\u001b[0m         \"\"\"\n\u001b[1;32m    512\u001b[0m         \u001b[0;31m# Clean up column names so that we can prevent future errors\u001b[0m\u001b[0;34m\u001b[0m\u001b[0;34m\u001b[0m\u001b[0m\n\u001b[0;32m--> 513\u001b[0;31m         \u001b[0;32mfor\u001b[0m \u001b[0mcolName\u001b[0m\u001b[0;34m,\u001b[0m \u001b[0mdtype\u001b[0m \u001b[0;32min\u001b[0m \u001b[0mdf\u001b[0m\u001b[0;34m.\u001b[0m\u001b[0mdtypes\u001b[0m\u001b[0;34m:\u001b[0m\u001b[0;34m\u001b[0m\u001b[0m\n\u001b[0m\u001b[1;32m    514\u001b[0m             \u001b[0;32mif\u001b[0m \u001b[0;34m'.'\u001b[0m \u001b[0;32min\u001b[0m \u001b[0mcolName\u001b[0m \u001b[0;32mor\u001b[0m \u001b[0;34m'`'\u001b[0m \u001b[0;32min\u001b[0m \u001b[0mcolName\u001b[0m \u001b[0;32mor\u001b[0m \u001b[0mcolName\u001b[0m\u001b[0;34m.\u001b[0m\u001b[0mstrip\u001b[0m\u001b[0;34m(\u001b[0m\u001b[0;34m)\u001b[0m \u001b[0;34m!=\u001b[0m \u001b[0mcolName\u001b[0m\u001b[0;34m:\u001b[0m\u001b[0;34m\u001b[0m\u001b[0m\n\u001b[1;32m    515\u001b[0m                 \u001b[0mdf\u001b[0m \u001b[0;34m=\u001b[0m \u001b[0mdf\u001b[0m\u001b[0;34m.\u001b[0m\u001b[0mwithColumnRenamed\u001b[0m\u001b[0;34m(\u001b[0m\u001b[0mcolName\u001b[0m\u001b[0;34m,\u001b[0m \u001b[0mcolName\u001b[0m\u001b[0;34m.\u001b[0m\u001b[0mstrip\u001b[0m\u001b[0;34m(\u001b[0m\u001b[0;34m)\u001b[0m\u001b[0;34m.\u001b[0m\u001b[0mreplace\u001b[0m\u001b[0;34m(\u001b[0m\u001b[0;34m\".\"\u001b[0m\u001b[0;34m,\u001b[0m \u001b[0;34m\"\"\u001b[0m\u001b[0;34m,\u001b[0m \u001b[0;34m\"_\"\u001b[0m\u001b[0;34m)\u001b[0m\u001b[0;34m.\u001b[0m\u001b[0mreplace\u001b[0m\u001b[0;34m(\u001b[0m\u001b[0;34m\"`\"\u001b[0m\u001b[0;34m,\u001b[0m \u001b[0;34m\"\"\u001b[0m\u001b[0;34m)\u001b[0m\u001b[0;34m)\u001b[0m\u001b[0;34m\u001b[0m\u001b[0m\n",
      "\u001b[0;31mTypeError\u001b[0m: 'numpy.dtype' object is not iterable"
     ]
    }
   ],
   "source": [
    "tc.colsNameSimilarity(pandasOpen, category = None, df2=pandasParking).show()"
   ]
  },
  {
   "cell_type": "code",
   "execution_count": 47,
   "metadata": {},
   "outputs": [
    {
     "name": "stdout",
     "output_type": "stream",
     "text": [
      "+--------+--------+\n",
      "|category|IsSubset|\n",
      "+--------+--------+\n",
      "|     NaN|     NaN|\n",
      "+--------+--------+\n",
      "\n"
     ]
    }
   ],
   "source": [
    "tc.getColsofCategory(parkingTable, ['registration_state'], 'State_short').show()"
   ]
  },
  {
   "cell_type": "code",
   "execution_count": 58,
   "metadata": {},
   "outputs": [
    {
     "name": "stdout",
     "output_type": "stream",
     "text": [
      "+--------+--------+\n",
      "|category|IsSubset|\n",
      "+--------+--------+\n",
      "|     NaN|     NaN|\n",
      "+--------+--------+\n",
      "\n"
     ]
    }
   ],
   "source": [
    "tc.getColsofCategory(parkingTable, ['registration_state'], 'State_short').show()"
   ]
  },
  {
   "cell_type": "code",
   "execution_count": 55,
   "metadata": {},
   "outputs": [
    {
     "name": "stdout",
     "output_type": "stream",
     "text": [
      "+------------+-----------+-----------+\n",
      "|'Table name'|column name|Null Values|\n",
      "+------------+-----------+-----------+\n",
      "+------------+-----------+-----------+\n",
      "\n"
     ]
    }
   ],
   "source": [
    "tc.countNullValues(pandasOpen).show()"
   ]
  },
  {
   "cell_type": "code",
   "execution_count": 56,
   "metadata": {},
   "outputs": [
    {
     "name": "stdout",
     "output_type": "stream",
     "text": [
      "+------------+-----------+-----------+\n",
      "|'Table name'|column name|Null Values|\n",
      "+------------+-----------+-----------+\n",
      "+------------+-----------+-----------+\n",
      "\n"
     ]
    }
   ],
   "source": [
    "tc.countNullValues(pandasParking).show()"
   ]
  },
  {
   "cell_type": "code",
   "execution_count": 50,
   "metadata": {},
   "outputs": [
    {
     "name": "stdout",
     "output_type": "stream",
     "text": [
      "+---------+-----+\n",
      "|col_value|count|\n",
      "+---------+-----+\n",
      "|  ACL4445|    2|\n",
      "|  GGJ4899|    2|\n",
      "|  HBH9968|    2|\n",
      "|  GPL7023|    2|\n",
      "|  BVS5686|    2|\n",
      "|  HDU4451|    2|\n",
      "|  HAY6630|    2|\n",
      "|  20213MA|    2|\n",
      "|  GDN2939|    2|\n",
      "|  HDZ8438|    2|\n",
      "|  55411JS|    2|\n",
      "|  CFJ8401|    2|\n",
      "|  44366MD|    2|\n",
      "|  VFR2928|    2|\n",
      "|   XCSB43|    2|\n",
      "|  DSZ6353|    2|\n",
      "|  GKL8441|    2|\n",
      "| T649254C|    2|\n",
      "|  VBU9385|    2|\n",
      "|  GKN1233|    2|\n",
      "+---------+-----+\n",
      "only showing top 20 rows\n",
      "\n"
     ]
    }
   ],
   "source": [
    "colList= [\"parking^plate_id\",\"open^plate\"]\n",
    "tc.returnUnionWithinCols(colList).show()"
   ]
  },
  {
   "cell_type": "code",
   "execution_count": null,
   "metadata": {},
   "outputs": [],
   "source": []
  },
  {
   "cell_type": "code",
   "execution_count": null,
   "metadata": {},
   "outputs": [],
   "source": []
  }
 ],
 "metadata": {
  "kernelspec": {
   "display_name": "Python 3",
   "language": "python",
   "name": "python3"
  },
  "language_info": {
   "codemirror_mode": {
    "name": "ipython",
    "version": 3
   },
   "file_extension": ".py",
   "mimetype": "text/x-python",
   "name": "python",
   "nbconvert_exporter": "python",
   "pygments_lexer": "ipython3",
   "version": "3.4.4"
  }
 },
 "nbformat": 4,
 "nbformat_minor": 2
}
