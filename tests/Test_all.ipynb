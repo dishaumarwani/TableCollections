{
 "cells": [
  {
   "cell_type": "code",
   "execution_count": 1,
   "metadata": {},
   "outputs": [],
   "source": [
    "import findspark\n",
    "findspark.init()\n",
    "from pyspark import SparkContext as sc\n",
    "\n",
    "import os\n",
    "\n",
    "from pyspark.sql import SQLContext, Row\n",
    "\n",
    "import pyspark\n",
    "\n",
    "import sys\n",
    "import string\n",
    "from csv import reader\n",
    "from functools import reduce\n",
    "from pyspark.sql import functions as f\n",
    "from collections import defaultdict\n",
    "import datetime\n",
    "\n",
    "sys.path.insert(0, '../src')\n",
    "from tableCollections import TableCollections\n",
    "import os"
   ]
  },
  {
   "cell_type": "code",
   "execution_count": 2,
   "metadata": {},
   "outputs": [],
   "source": [
    "data_path = ['data']\n",
    "parking_filepath = os.sep.join(data_path + ['parking.csv'])\n",
    "\n",
    "sc = sc(appName=\"Test_all\")\n",
    "sqlContext = SQLContext(sc)"
   ]
  },
  {
   "cell_type": "code",
   "execution_count": 5,
   "metadata": {},
   "outputs": [],
   "source": [
    "parkingTable = sqlContext.read.format('csv').options(header='true',inferschema='true').load('/user/ecc290/HW1data/parking-violations-header.csv')"
   ]
  },
  {
   "cell_type": "code",
   "execution_count": 7,
   "metadata": {},
   "outputs": [],
   "source": [
    "openTable = sqlContext.read.format('csv').options(header='true',inferschema='true').load('/user/ecc290/HW1data/open-violations-header.csv')"
   ]
  },
  {
   "cell_type": "code",
   "execution_count": 8,
   "metadata": {},
   "outputs": [],
   "source": [
    "tc = TableCollections(sqlContext, sc)"
   ]
  },
  {
   "cell_type": "code",
   "execution_count": 9,
   "metadata": {},
   "outputs": [
    {
     "name": "stdout",
     "output_type": "stream",
     "text": [
      "num metadata file exists for table parking\n",
      "timestamp metadata file exists for table parking\n",
      "string metadata file exists for table parking\n"
     ]
    }
   ],
   "source": [
    "tc.register(parkingTable, \"parking\")"
   ]
  },
  {
   "cell_type": "code",
   "execution_count": 11,
   "metadata": {},
   "outputs": [
    {
     "name": "stdout",
     "output_type": "stream",
     "text": [
      "num metadata file exists for table open\n",
      "string metadata file exists for table open\n"
     ]
    }
   ],
   "source": [
    "tc.register(openTable, \"open\")"
   ]
  },
  {
   "cell_type": "code",
   "execution_count": 10,
   "metadata": {},
   "outputs": [
    {
     "name": "stdout",
     "output_type": "stream",
     "text": [
      "+----------+---------+\n",
      "|   colName|tableName|\n",
      "+----------+---------+\n",
      "|issue_date|  parking|\n",
      "+----------+---------+\n",
      "\n"
     ]
    }
   ],
   "source": [
    "import datetime\n",
    "tc.timeColWithinRange(datetime.datetime(1994,1,1), datetime.datetime(2018,5,1)).show()"
   ]
  },
  {
   "cell_type": "code",
   "execution_count": 14,
   "metadata": {},
   "outputs": [
    {
     "name": "stdout",
     "output_type": "stream",
     "text": [
      "+------------------+---------+\n",
      "|           colName|tableName|\n",
      "+------------------+---------+\n",
      "|violation_location|  parking|\n",
      "|violation_precinct|  parking|\n",
      "|   issuer_precinct|  parking|\n",
      "|       issuer_code|  parking|\n",
      "|    violation_code|  parking|\n",
      "|      vehicle_year|  parking|\n",
      "|  reduction_amount|     open|\n",
      "|   interest_amount|     open|\n",
      "|    payment_amount|     open|\n",
      "|    penalty_amount|     open|\n",
      "|       fine_amount|     open|\n",
      "|        amount_due|     open|\n",
      "|          precinct|     open|\n",
      "+------------------+---------+\n",
      "\n"
     ]
    }
   ],
   "source": [
    "tc.numColWithinRange(-1000000, 10000000).show()"
   ]
  },
  {
   "cell_type": "code",
   "execution_count": 16,
   "metadata": {},
   "outputs": [
    {
     "name": "stdout",
     "output_type": "stream",
     "text": [
      "+---------+------------------+----+-----+\n",
      "|tableName|           colName| min|  max|\n",
      "+---------+------------------+----+-----+\n",
      "|  parking|violation_location|-1.0|967.0|\n",
      "|  parking|violation_precinct| 0.0|967.0|\n",
      "|     open|  reduction_amount| 0.0|545.0|\n",
      "|     open|        amount_due| 0.0|594.1|\n",
      "+---------+------------------+----+-----+\n",
      "\n"
     ]
    }
   ],
   "source": [
    "colList= [\"parking^violation_location\",\"parking^violation_precinct\", \"open^reduction_amount\", \"open^amount_due\"]\n",
    "tc.getNumRange(colList).show()"
   ]
  },
  {
   "cell_type": "code",
   "execution_count": 19,
   "metadata": {},
   "outputs": [
    {
     "name": "stdout",
     "output_type": "stream",
     "text": [
      "+---------+----------+-------------------+-------------------+\n",
      "|tableName|   colName|                min|                max|\n",
      "+---------+----------+-------------------+-------------------+\n",
      "|  parking|issue_date|2016-03-01 00:00:00|2016-03-31 00:00:00|\n",
      "+---------+----------+-------------------+-------------------+\n",
      "\n"
     ]
    }
   ],
   "source": [
    "colList= [\"parking^issue_date\"]\n",
    "tc.getTimeRange(colList).show()"
   ]
  },
  {
   "cell_type": "code",
   "execution_count": 22,
   "metadata": {},
   "outputs": [
    {
     "name": "stdout",
     "output_type": "stream",
     "text": [
      "+------------------+---------+------------------+\n",
      "|           colName|tableName|               iou|\n",
      "+------------------+---------+------------------+\n",
      "|violation_location|  parking|               1.0|\n",
      "|violation_precinct|  parking|0.9989669421487604|\n",
      "|   issuer_precinct|  parking| 0.973816717019134|\n",
      "|          precinct|     open|0.8316115702479339|\n",
      "|        amount_due|     open|0.6137396694214876|\n",
      "|    payment_amount|     open|0.6099586776859505|\n",
      "|  reduction_amount|     open|0.5630165289256198|\n",
      "|       fine_amount|     open| 0.506198347107438|\n",
      "|      vehicle_year|  parking|0.4671497584541063|\n",
      "|    violation_code|  parking|0.1012396694214876|\n",
      "+------------------+---------+------------------+\n",
      "\n"
     ]
    }
   ],
   "source": [
    "tc.getSimilarNumCols(\"parking^violation_location\", threshold=0.1).show()"
   ]
  },
  {
   "cell_type": "code",
   "execution_count": 25,
   "metadata": {},
   "outputs": [
    {
     "name": "stdout",
     "output_type": "stream",
     "text": [
      "+---------+-----+\n",
      "|col_value|count|\n",
      "+---------+-----+\n",
      "|  12384MG|    2|\n",
      "|   2AL711|    2|\n",
      "|   XAGM54|    2|\n",
      "|  24781MG|    2|\n",
      "|   EVRB25|    2|\n",
      "|  31590ME|    2|\n",
      "|  FZA5037|    2|\n",
      "|  VFL2464|    2|\n",
      "|  VKD5120|    2|\n",
      "|   Y69AVV|    2|\n",
      "|  FRJ7147|    2|\n",
      "|  FZK8632|    2|\n",
      "|  26333MH|    2|\n",
      "|   XCSB43|    2|\n",
      "|  92429JY|    2|\n",
      "|  58730MC|    2|\n",
      "|  ETU2643|    2|\n",
      "|  EHD5439|    2|\n",
      "|  2267754|    2|\n",
      "|   D57CVL|    2|\n",
      "+---------+-----+\n",
      "only showing top 20 rows\n",
      "\n"
     ]
    }
   ],
   "source": [
    "colList= [\"parking^plate_id\",\"open^plate\"]\n",
    "tc.returnIntersecWithinCols(colList).show()"
   ]
  },
  {
   "cell_type": "code",
   "execution_count": 26,
   "metadata": {},
   "outputs": [
    {
     "name": "stdout",
     "output_type": "stream",
     "text": [
      "+----------+----+--------+\n",
      "| col_value| cnt|col_name|\n",
      "+----------+----+--------+\n",
      "|BLANKPLATE|1203|plate_id|\n",
      "|BLANKPLATE| 872|   plate|\n",
      "|       N/A| 155|plate_id|\n",
      "|       N/A| 149|   plate|\n",
      "|    AP501F| 138|plate_id|\n",
      "+----------+----+--------+\n",
      "\n"
     ]
    }
   ],
   "source": [
    "colList= [\"parking^plate_id\",\"open^plate\"]\n",
    "tc.frequentVals(colList, 5).show()"
   ]
  },
  {
   "cell_type": "code",
   "execution_count": 28,
   "metadata": {},
   "outputs": [
    {
     "name": "stdout",
     "output_type": "stream",
     "text": [
      "+---------+---+--------+\n",
      "|col_value|cnt|col_name|\n",
      "+---------+---+--------+\n",
      "|  BML4037|  1|plate_id|\n",
      "| T655130C|  1|plate_id|\n",
      "| T649453C|  1|plate_id|\n",
      "|  CHU7059|  1|plate_id|\n",
      "|   D57CVL|  1|plate_id|\n",
      "|  EWX5634|  1|plate_id|\n",
      "|  30437MA|  1|plate_id|\n",
      "|  DUA2419|  1|plate_id|\n",
      "|   Z77FJX|  1|plate_id|\n",
      "|  ERG9119|  1|plate_id|\n",
      "|  EWD7040|  1|plate_id|\n",
      "|  FYW3414|  1|plate_id|\n",
      "|  DRV8081|  1|plate_id|\n",
      "|  FRJ7147|  1|plate_id|\n",
      "|  39034MG|  1|plate_id|\n",
      "|   Z41DYN|  1|plate_id|\n",
      "|   N77FNS|  1|plate_id|\n",
      "|   E91EYH|  1|plate_id|\n",
      "|  CPZ3300|  1|plate_id|\n",
      "|  EHD5439|  1|plate_id|\n",
      "+---------+---+--------+\n",
      "only showing top 20 rows\n",
      "\n",
      "+---------+---+--------+\n",
      "|col_value|cnt|col_name|\n",
      "+---------+---+--------+\n",
      "|  GWM2129|  1|   plate|\n",
      "|  GVS9200|  1|   plate|\n",
      "|  ACL4445|  1|   plate|\n",
      "|  GGJ4899|  1|   plate|\n",
      "|  HBH9968|  1|   plate|\n",
      "|   595ZSY|  1|   plate|\n",
      "|  BVS5686|  1|   plate|\n",
      "|  HDU4451|  1|   plate|\n",
      "|  20213MA|  1|   plate|\n",
      "|  EBE1052|  1|   plate|\n",
      "|  GDN2939|  1|   plate|\n",
      "|  GFF4794|  1|   plate|\n",
      "|  55411JS|  1|   plate|\n",
      "|  HES4521|  1|   plate|\n",
      "|  GKL8441|  1|   plate|\n",
      "|  JKN8882|  1|   plate|\n",
      "|    ALS25|  1|   plate|\n",
      "|  GUR5001|  1|   plate|\n",
      "|  GXG1203|  1|   plate|\n",
      "|  EPE1908|  1|   plate|\n",
      "+---------+---+--------+\n",
      "only showing top 20 rows\n",
      "\n"
     ]
    }
   ],
   "source": [
    "colList= [\"parking^plate_id\",\"open^plate\"]\n",
    "tc.returnOutliers(colList, 0.01)"
   ]
  },
  {
   "cell_type": "code",
   "execution_count": 32,
   "metadata": {},
   "outputs": [
    {
     "name": "stdout",
     "output_type": "stream",
     "text": [
      "+--------+----------+\n",
      "|col_name|table_name|\n",
      "+--------+----------+\n",
      "|   plate|      open|\n",
      "+--------+----------+\n",
      "\n"
     ]
    }
   ],
   "source": [
    "colList= [\"parking^plate_id\",\"open^plate\"]\n",
    "withList = ['CPZ3300']\n",
    "withoutList = ['GTR366A']\n",
    "tc.colsWithAndWithout(colList, withList, withoutList).show()"
   ]
  },
  {
   "cell_type": "code",
   "execution_count": 34,
   "metadata": {},
   "outputs": [
    {
     "name": "stdout",
     "output_type": "stream",
     "text": [
      "+--------+------+\n",
      "|col_name| count|\n",
      "+--------+------+\n",
      "|   plate|212692|\n",
      "|plate_id|607520|\n",
      "+--------+------+\n",
      "\n"
     ]
    }
   ],
   "source": [
    "tc.getCardinality(colList).show()"
   ]
  },
  {
   "cell_type": "code",
   "execution_count": 35,
   "metadata": {},
   "outputs": [
    {
     "data": {
      "text/plain": [
       "['plate',\n",
       " 'license_type',\n",
       " 'county',\n",
       " 'state',\n",
       " 'issuing_agency',\n",
       " 'violation',\n",
       " 'violation_status',\n",
       " 'issue_date',\n",
       " 'violation_time',\n",
       " 'judgment_entry_date']"
      ]
     },
     "execution_count": 35,
     "metadata": {},
     "output_type": "execute_result"
    }
   ],
   "source": [
    "tc.getColsOfDatatype(openTable, 'string')"
   ]
  },
  {
   "cell_type": "code",
   "execution_count": 38,
   "metadata": {},
   "outputs": [
    {
     "name": "stdout",
     "output_type": "stream",
     "text": [
      "[nltk_data] Downloading package wordnet to /home/jp4989/nltk_data...\n",
      "[nltk_data]   Unzipping corpora/wordnet.zip.\n"
     ]
    },
    {
     "data": {
      "text/plain": [
       "True"
      ]
     },
     "execution_count": 38,
     "metadata": {},
     "output_type": "execute_result"
    }
   ],
   "source": [
    "#Necessary to use nltk library\n",
    "import nltk\n",
    "nltk.download('wordnet')"
   ]
  },
  {
   "cell_type": "code",
   "execution_count": 41,
   "metadata": {},
   "outputs": [
    {
     "ename": "TypeError",
     "evalue": "unorderable types: NoneType() > float()",
     "output_type": "error",
     "traceback": [
      "\u001b[0;31m---------------------------------------------------------------------------\u001b[0m",
      "\u001b[0;31mTypeError\u001b[0m                                 Traceback (most recent call last)",
      "\u001b[0;32m<ipython-input-41-eca9ebed3552>\u001b[0m in \u001b[0;36m<module>\u001b[0;34m()\u001b[0m\n\u001b[0;32m----> 1\u001b[0;31m \u001b[0mtc\u001b[0m\u001b[0;34m.\u001b[0m\u001b[0mcolsNameSimilarity\u001b[0m\u001b[0;34m(\u001b[0m\u001b[0mopenTable\u001b[0m\u001b[0;34m,\u001b[0m \u001b[0mcategory\u001b[0m \u001b[0;34m=\u001b[0m \u001b[0;32mNone\u001b[0m\u001b[0;34m,\u001b[0m \u001b[0mdf2\u001b[0m\u001b[0;34m=\u001b[0m\u001b[0mparkingTable\u001b[0m\u001b[0;34m)\u001b[0m\u001b[0;34m\u001b[0m\u001b[0m\n\u001b[0m",
      "\u001b[0;32m/scratch/jp4989/bigdataproject/src/tableCollections.py\u001b[0m in \u001b[0;36mcolsNameSimilarity\u001b[0;34m(self, df, category, df2)\u001b[0m\n\u001b[1;32m    555\u001b[0m                                 \u001b[0mscore\u001b[0m\u001b[0;34m.\u001b[0m\u001b[0mappend\u001b[0m\u001b[0;34m(\u001b[0m\u001b[0mcolName_sys_1\u001b[0m\u001b[0;34m[\u001b[0m\u001b[0;36m0\u001b[0m\u001b[0;34m]\u001b[0m\u001b[0;34m.\u001b[0m\u001b[0mpath_similarity\u001b[0m\u001b[0;34m(\u001b[0m\u001b[0mcolName_sys_2\u001b[0m\u001b[0;34m[\u001b[0m\u001b[0;36m0\u001b[0m\u001b[0;34m]\u001b[0m\u001b[0;34m)\u001b[0m\u001b[0;34m)\u001b[0m\u001b[0;34m\u001b[0m\u001b[0m\n\u001b[1;32m    556\u001b[0m                     \u001b[0;32mif\u001b[0m\u001b[0;34m(\u001b[0m\u001b[0mscore\u001b[0m \u001b[0;34m!=\u001b[0m \u001b[0;34m[\u001b[0m\u001b[0;34m]\u001b[0m\u001b[0;34m)\u001b[0m\u001b[0;34m:\u001b[0m\u001b[0;34m\u001b[0m\u001b[0m\n\u001b[0;32m--> 557\u001b[0;31m                         \u001b[0mscore\u001b[0m \u001b[0;34m=\u001b[0m \u001b[0mmax\u001b[0m\u001b[0;34m(\u001b[0m\u001b[0mscore\u001b[0m\u001b[0;34m)\u001b[0m\u001b[0;34m\u001b[0m\u001b[0m\n\u001b[0m\u001b[1;32m    558\u001b[0m                     \u001b[0;32melse\u001b[0m\u001b[0;34m:\u001b[0m\u001b[0;34m\u001b[0m\u001b[0m\n\u001b[1;32m    559\u001b[0m                         \u001b[0mscore\u001b[0m \u001b[0;34m=\u001b[0m \u001b[0;36m0\u001b[0m\u001b[0;34m\u001b[0m\u001b[0m\n",
      "\u001b[0;31mTypeError\u001b[0m: unorderable types: NoneType() > float()"
     ]
    }
   ],
   "source": [
    "tc.colsNameSimilarity(openTable, category = None, df2=parkingTable)"
   ]
  },
  {
   "cell_type": "code",
   "execution_count": 47,
   "metadata": {},
   "outputs": [
    {
     "name": "stdout",
     "output_type": "stream",
     "text": [
      "+--------+--------+\n",
      "|category|IsSubset|\n",
      "+--------+--------+\n",
      "|     NaN|     NaN|\n",
      "+--------+--------+\n",
      "\n"
     ]
    }
   ],
   "source": [
    "tc.getColsofCategory(parkingTable, ['registration_state'], 'State_short').show()"
   ]
  },
  {
   "cell_type": "code",
   "execution_count": 48,
   "metadata": {},
   "outputs": [
    {
     "ename": "TypeError",
     "evalue": "Column is not iterable",
     "output_type": "error",
     "traceback": [
      "\u001b[0;31m---------------------------------------------------------------------------\u001b[0m",
      "\u001b[0;31mTypeError\u001b[0m                                 Traceback (most recent call last)",
      "\u001b[0;32m<ipython-input-48-33713bf229aa>\u001b[0m in \u001b[0;36m<module>\u001b[0;34m()\u001b[0m\n\u001b[0;32m----> 1\u001b[0;31m \u001b[0mtc\u001b[0m\u001b[0;34m.\u001b[0m\u001b[0mcountNullValues\u001b[0m\u001b[0;34m(\u001b[0m\u001b[0mparkingTable\u001b[0m\u001b[0;34m)\u001b[0m\u001b[0;34m\u001b[0m\u001b[0m\n\u001b[0m",
      "\u001b[0;32m/scratch/jp4989/bigdataproject/src/tableCollections.py\u001b[0m in \u001b[0;36mcountNullValues\u001b[0;34m(self, table_col_list)\u001b[0m\n\u001b[1;32m    613\u001b[0m             \u001b[0mtable\u001b[0m\u001b[0;34m,\u001b[0m \u001b[0mcolumn\u001b[0m \u001b[0;34m=\u001b[0m \u001b[0mi\u001b[0m\u001b[0;34m[\u001b[0m\u001b[0;36m0\u001b[0m\u001b[0;34m]\u001b[0m\u001b[0;34m,\u001b[0m \u001b[0mi\u001b[0m\u001b[0;34m[\u001b[0m\u001b[0;36m1\u001b[0m\u001b[0;34m]\u001b[0m\u001b[0;34m\u001b[0m\u001b[0m\n\u001b[1;32m    614\u001b[0m             \u001b[0mfilename\u001b[0m \u001b[0;34m=\u001b[0m \u001b[0mtable\u001b[0m\u001b[0;34m+\u001b[0m\u001b[0;34m'_string_metadata.csv'\u001b[0m\u001b[0;34m\u001b[0m\u001b[0m\n\u001b[0;32m--> 615\u001b[0;31m             \u001b[0;32mif\u001b[0m \u001b[0mself\u001b[0m\u001b[0;34m.\u001b[0m\u001b[0mfs\u001b[0m\u001b[0;34m.\u001b[0m\u001b[0mexists\u001b[0m\u001b[0;34m(\u001b[0m\u001b[0mself\u001b[0m\u001b[0;34m.\u001b[0m\u001b[0msc\u001b[0m\u001b[0;34m.\u001b[0m\u001b[0m_jvm\u001b[0m\u001b[0;34m.\u001b[0m\u001b[0morg\u001b[0m\u001b[0;34m.\u001b[0m\u001b[0mapache\u001b[0m\u001b[0;34m.\u001b[0m\u001b[0mhadoop\u001b[0m\u001b[0;34m.\u001b[0m\u001b[0mfs\u001b[0m\u001b[0;34m.\u001b[0m\u001b[0mPath\u001b[0m\u001b[0;34m(\u001b[0m\u001b[0mfilename\u001b[0m\u001b[0;34m)\u001b[0m\u001b[0;34m)\u001b[0m\u001b[0;34m:\u001b[0m\u001b[0;34m\u001b[0m\u001b[0m\n\u001b[0m\u001b[1;32m    616\u001b[0m                 \u001b[0mcurrentTable\u001b[0m \u001b[0;34m=\u001b[0m \u001b[0mself\u001b[0m\u001b[0;34m.\u001b[0m\u001b[0mspark\u001b[0m\u001b[0;34m.\u001b[0m\u001b[0mread\u001b[0m\u001b[0;34m.\u001b[0m\u001b[0mformat\u001b[0m\u001b[0;34m(\u001b[0m\u001b[0;34m'csv'\u001b[0m\u001b[0;34m)\u001b[0m\u001b[0;34m.\u001b[0m\u001b[0;31m\\\u001b[0m\u001b[0;34m\u001b[0m\u001b[0m\n\u001b[1;32m    617\u001b[0m                 \u001b[0moptions\u001b[0m\u001b[0;34m(\u001b[0m\u001b[0mheader\u001b[0m\u001b[0;34m=\u001b[0m\u001b[0;34m'true'\u001b[0m\u001b[0;34m,\u001b[0m\u001b[0minferschema\u001b[0m\u001b[0;34m=\u001b[0m\u001b[0;34m'true'\u001b[0m\u001b[0;34m,\u001b[0m \u001b[0msep\u001b[0m \u001b[0;34m=\u001b[0m \u001b[0;34m'^'\u001b[0m\u001b[0;34m)\u001b[0m\u001b[0;34m.\u001b[0m\u001b[0mload\u001b[0m\u001b[0;34m(\u001b[0m\u001b[0mfilename\u001b[0m\u001b[0;34m)\u001b[0m\u001b[0;34m\u001b[0m\u001b[0m\n",
      "\u001b[0;32m/share/apps/spark/spark-2.2.0-bin-hadoop2.6/python/lib/py4j-0.10.4-src.zip/py4j/java_gateway.py\u001b[0m in \u001b[0;36m__call__\u001b[0;34m(self, *args)\u001b[0m\n\u001b[1;32m   1384\u001b[0m         \u001b[0;31m# TODO Refactor to use a mixin shared by JavaMember and JavaClass\u001b[0m\u001b[0;34m\u001b[0m\u001b[0;34m\u001b[0m\u001b[0m\n\u001b[1;32m   1385\u001b[0m         \u001b[0;32mif\u001b[0m \u001b[0mself\u001b[0m\u001b[0;34m.\u001b[0m\u001b[0m_converters\u001b[0m \u001b[0;32mis\u001b[0m \u001b[0;32mnot\u001b[0m \u001b[0;32mNone\u001b[0m \u001b[0;32mand\u001b[0m \u001b[0mlen\u001b[0m\u001b[0;34m(\u001b[0m\u001b[0mself\u001b[0m\u001b[0;34m.\u001b[0m\u001b[0m_converters\u001b[0m\u001b[0;34m)\u001b[0m \u001b[0;34m>\u001b[0m \u001b[0;36m0\u001b[0m\u001b[0;34m:\u001b[0m\u001b[0;34m\u001b[0m\u001b[0m\n\u001b[0;32m-> 1386\u001b[0;31m             \u001b[0;34m(\u001b[0m\u001b[0mnew_args\u001b[0m\u001b[0;34m,\u001b[0m \u001b[0mtemp_args\u001b[0m\u001b[0;34m)\u001b[0m \u001b[0;34m=\u001b[0m \u001b[0mself\u001b[0m\u001b[0;34m.\u001b[0m\u001b[0m_get_args\u001b[0m\u001b[0;34m(\u001b[0m\u001b[0margs\u001b[0m\u001b[0;34m)\u001b[0m\u001b[0;34m\u001b[0m\u001b[0m\n\u001b[0m\u001b[1;32m   1387\u001b[0m         \u001b[0;32melse\u001b[0m\u001b[0;34m:\u001b[0m\u001b[0;34m\u001b[0m\u001b[0m\n\u001b[1;32m   1388\u001b[0m             \u001b[0mnew_args\u001b[0m \u001b[0;34m=\u001b[0m \u001b[0margs\u001b[0m\u001b[0;34m\u001b[0m\u001b[0m\n",
      "\u001b[0;32m/share/apps/spark/spark-2.2.0-bin-hadoop2.6/python/lib/py4j-0.10.4-src.zip/py4j/java_gateway.py\u001b[0m in \u001b[0;36m_get_args\u001b[0;34m(self, args)\u001b[0m\n\u001b[1;32m   1370\u001b[0m                 \u001b[0;32mfor\u001b[0m \u001b[0mconverter\u001b[0m \u001b[0;32min\u001b[0m \u001b[0mself\u001b[0m\u001b[0;34m.\u001b[0m\u001b[0m_converters\u001b[0m\u001b[0;34m:\u001b[0m\u001b[0;34m\u001b[0m\u001b[0m\n\u001b[1;32m   1371\u001b[0m                     \u001b[0;32mif\u001b[0m \u001b[0mconverter\u001b[0m\u001b[0;34m.\u001b[0m\u001b[0mcan_convert\u001b[0m\u001b[0;34m(\u001b[0m\u001b[0marg\u001b[0m\u001b[0;34m)\u001b[0m\u001b[0;34m:\u001b[0m\u001b[0;34m\u001b[0m\u001b[0m\n\u001b[0;32m-> 1372\u001b[0;31m                         \u001b[0mtemp_arg\u001b[0m \u001b[0;34m=\u001b[0m \u001b[0mconverter\u001b[0m\u001b[0;34m.\u001b[0m\u001b[0mconvert\u001b[0m\u001b[0;34m(\u001b[0m\u001b[0marg\u001b[0m\u001b[0;34m,\u001b[0m \u001b[0mself\u001b[0m\u001b[0;34m.\u001b[0m\u001b[0m_gateway_client\u001b[0m\u001b[0;34m)\u001b[0m\u001b[0;34m\u001b[0m\u001b[0m\n\u001b[0m\u001b[1;32m   1373\u001b[0m                         \u001b[0mtemp_args\u001b[0m\u001b[0;34m.\u001b[0m\u001b[0mappend\u001b[0m\u001b[0;34m(\u001b[0m\u001b[0mtemp_arg\u001b[0m\u001b[0;34m)\u001b[0m\u001b[0;34m\u001b[0m\u001b[0m\n\u001b[1;32m   1374\u001b[0m                         \u001b[0mnew_args\u001b[0m\u001b[0;34m.\u001b[0m\u001b[0mappend\u001b[0m\u001b[0;34m(\u001b[0m\u001b[0mtemp_arg\u001b[0m\u001b[0;34m)\u001b[0m\u001b[0;34m\u001b[0m\u001b[0m\n",
      "\u001b[0;32m/share/apps/spark/spark-2.2.0-bin-hadoop2.6/python/lib/py4j-0.10.4-src.zip/py4j/java_collections.py\u001b[0m in \u001b[0;36mconvert\u001b[0;34m(self, object, gateway_client)\u001b[0m\n\u001b[1;32m    498\u001b[0m         \u001b[0mArrayList\u001b[0m \u001b[0;34m=\u001b[0m \u001b[0mJavaClass\u001b[0m\u001b[0;34m(\u001b[0m\u001b[0;34m\"java.util.ArrayList\"\u001b[0m\u001b[0;34m,\u001b[0m \u001b[0mgateway_client\u001b[0m\u001b[0;34m)\u001b[0m\u001b[0;34m\u001b[0m\u001b[0m\n\u001b[1;32m    499\u001b[0m         \u001b[0mjava_list\u001b[0m \u001b[0;34m=\u001b[0m \u001b[0mArrayList\u001b[0m\u001b[0;34m(\u001b[0m\u001b[0;34m)\u001b[0m\u001b[0;34m\u001b[0m\u001b[0m\n\u001b[0;32m--> 500\u001b[0;31m         \u001b[0;32mfor\u001b[0m \u001b[0melement\u001b[0m \u001b[0;32min\u001b[0m \u001b[0mobject\u001b[0m\u001b[0;34m:\u001b[0m\u001b[0;34m\u001b[0m\u001b[0m\n\u001b[0m\u001b[1;32m    501\u001b[0m             \u001b[0mjava_list\u001b[0m\u001b[0;34m.\u001b[0m\u001b[0madd\u001b[0m\u001b[0;34m(\u001b[0m\u001b[0melement\u001b[0m\u001b[0;34m)\u001b[0m\u001b[0;34m\u001b[0m\u001b[0m\n\u001b[1;32m    502\u001b[0m         \u001b[0;32mreturn\u001b[0m \u001b[0mjava_list\u001b[0m\u001b[0;34m\u001b[0m\u001b[0m\n",
      "\u001b[0;32m/share/apps/spark/spark-2.2.0-bin-hadoop2.6/python/pyspark/sql/column.py\u001b[0m in \u001b[0;36m__iter__\u001b[0;34m(self)\u001b[0m\n\u001b[1;32m    248\u001b[0m \u001b[0;34m\u001b[0m\u001b[0m\n\u001b[1;32m    249\u001b[0m     \u001b[0;32mdef\u001b[0m \u001b[0m__iter__\u001b[0m\u001b[0;34m(\u001b[0m\u001b[0mself\u001b[0m\u001b[0;34m)\u001b[0m\u001b[0;34m:\u001b[0m\u001b[0;34m\u001b[0m\u001b[0m\n\u001b[0;32m--> 250\u001b[0;31m         \u001b[0;32mraise\u001b[0m \u001b[0mTypeError\u001b[0m\u001b[0;34m(\u001b[0m\u001b[0;34m\"Column is not iterable\"\u001b[0m\u001b[0;34m)\u001b[0m\u001b[0;34m\u001b[0m\u001b[0m\n\u001b[0m\u001b[1;32m    251\u001b[0m \u001b[0;34m\u001b[0m\u001b[0m\n\u001b[1;32m    252\u001b[0m     \u001b[0;31m# string methods\u001b[0m\u001b[0;34m\u001b[0m\u001b[0;34m\u001b[0m\u001b[0m\n",
      "\u001b[0;31mTypeError\u001b[0m: Column is not iterable"
     ]
    }
   ],
   "source": [
    "tc.countNullValues(parkingTable)"
   ]
  },
  {
   "cell_type": "code",
   "execution_count": 50,
   "metadata": {},
   "outputs": [
    {
     "name": "stdout",
     "output_type": "stream",
     "text": [
      "+---------+-----+\n",
      "|col_value|count|\n",
      "+---------+-----+\n",
      "|  ACL4445|    2|\n",
      "|  GGJ4899|    2|\n",
      "|  HBH9968|    2|\n",
      "|  GPL7023|    2|\n",
      "|  BVS5686|    2|\n",
      "|  HDU4451|    2|\n",
      "|  HAY6630|    2|\n",
      "|  20213MA|    2|\n",
      "|  GDN2939|    2|\n",
      "|  HDZ8438|    2|\n",
      "|  55411JS|    2|\n",
      "|  CFJ8401|    2|\n",
      "|  44366MD|    2|\n",
      "|  VFR2928|    2|\n",
      "|   XCSB43|    2|\n",
      "|  DSZ6353|    2|\n",
      "|  GKL8441|    2|\n",
      "| T649254C|    2|\n",
      "|  VBU9385|    2|\n",
      "|  GKN1233|    2|\n",
      "+---------+-----+\n",
      "only showing top 20 rows\n",
      "\n"
     ]
    }
   ],
   "source": [
    "colList= [\"parking^plate_id\",\"open^plate\"]\n",
    "tc.returnUnionWithinCols(colList).show()"
   ]
  },
  {
   "cell_type": "code",
   "execution_count": null,
   "metadata": {},
   "outputs": [],
   "source": []
  },
  {
   "cell_type": "code",
   "execution_count": null,
   "metadata": {},
   "outputs": [],
   "source": []
  }
 ],
 "metadata": {
  "kernelspec": {
   "display_name": "Python 3",
   "language": "python",
   "name": "python3"
  },
  "language_info": {
   "codemirror_mode": {
    "name": "ipython",
    "version": 3
   },
   "file_extension": ".py",
   "mimetype": "text/x-python",
   "name": "python",
   "nbconvert_exporter": "python",
   "pygments_lexer": "ipython3",
   "version": "3.4.4"
  }
 },
 "nbformat": 4,
 "nbformat_minor": 2
}
