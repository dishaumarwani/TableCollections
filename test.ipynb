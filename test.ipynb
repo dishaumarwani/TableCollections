{
 "cells": [
  {
   "cell_type": "code",
   "execution_count": 1,
   "metadata": {},
   "outputs": [
    {
     "ename": "NameError",
     "evalue": "name 'spark' is not defined",
     "output_type": "error",
     "traceback": [
      "\u001b[0;31m---------------------------------------------------------------------------\u001b[0m",
      "\u001b[0;31mNameError\u001b[0m                                 Traceback (most recent call last)",
      "\u001b[0;32m<ipython-input-1-b411df8ca2e1>\u001b[0m in \u001b[0;36m<module>\u001b[0;34m()\u001b[0m\n\u001b[0;32m----> 1\u001b[0;31m \u001b[0mspark\u001b[0m\u001b[0;34m.\u001b[0m\u001b[0mstop\u001b[0m\u001b[0;34m(\u001b[0m\u001b[0;34m)\u001b[0m\u001b[0;34m\u001b[0m\u001b[0m\n\u001b[0m\u001b[1;32m      2\u001b[0m \u001b[0msc\u001b[0m\u001b[0;34m.\u001b[0m\u001b[0mstop\u001b[0m\u001b[0;34m(\u001b[0m\u001b[0;34m)\u001b[0m\u001b[0;34m\u001b[0m\u001b[0m\n",
      "\u001b[0;31mNameError\u001b[0m: name 'spark' is not defined"
     ]
    }
   ],
   "source": [
    "spark.stop()\n",
    "sc.stop()"
   ]
  },
  {
   "cell_type": "code",
   "execution_count": 2,
   "metadata": {},
   "outputs": [],
   "source": [
    "import findspark\n",
    "findspark.init()"
   ]
  },
  {
   "cell_type": "code",
   "execution_count": 3,
   "metadata": {},
   "outputs": [],
   "source": [
    "from pyspark.sql import SparkSession\n",
    "from pyspark.sql import Row\n",
    "import sys\n",
    "import string\n",
    "from csv import reader\n",
    "from functools import reduce\n",
    "from pyspark.sql import functions as f\n",
    "from collections import defaultdict\n",
    "import datetime\n",
    "%load_ext autoreload\n",
    "%autoreload 2\n",
    "from tableCollections import TableCollections"
   ]
  },
  {
   "cell_type": "code",
   "execution_count": 4,
   "metadata": {},
   "outputs": [],
   "source": [
    "spark = SparkSession \\\n",
    "                .builder \\\n",
    "                .appName(\"TableCollections\") \\\n",
    "                .config(\"spark.io.compression.codec\", \"snappy\") \\\n",
    "                .config(\"spark.shuffle.service.enabled\", \"false\") \\\n",
    "                .config(\"spark.dynamicAllocation.enabled\", \"false\") \\\n",
    "                .config(\"spark.rdd.compress\", \"true\") \\\n",
    "                .getOrCreate()\n",
    "sc = spark.sparkContext"
   ]
  },
  {
   "cell_type": "code",
   "execution_count": 4,
   "metadata": {},
   "outputs": [],
   "source": [
    "parkingTable = spark.read.format('csv').options(header='true',inferschema='true').load('/user/ecc290/HW1data/parking-violations-header.csv')\n",
    "openTable = spark.read.format('csv').options(header='true',inferschema='true').load('/user/ecc290/HW1data/open-violations-header.csv')"
   ]
  },
  {
   "cell_type": "code",
   "execution_count": 4,
   "metadata": {},
   "outputs": [],
   "source": []
  },
  {
   "cell_type": "code",
   "execution_count": 16,
   "metadata": {},
   "outputs": [
    {
     "name": "stdout",
     "output_type": "stream",
     "text": [
      "num metadata file exists for table open\n",
      "num metadata file exists for table parking\n",
      "timestamp metadata file exists for table parking\n",
      "+--------------+---------+\n",
      "|       colName|tableName|\n",
      "+--------------+---------+\n",
      "|summons_number|     open|\n",
      "|   fine_amount|     open|\n",
      "|summons_number|  parking|\n",
      "|violation_code|  parking|\n",
      "+--------------+---------+\n",
      "\n",
      "+----------+---------+\n",
      "|   colName|tableName|\n",
      "+----------+---------+\n",
      "|issue_date|  parking|\n",
      "+----------+---------+\n",
      "\n"
     ]
    }
   ],
   "source": [
    "tc = TableCollections(spark, sc)\n",
    "tc.register(openTable, \"open\")\n",
    "tc.register(parkingTable, \"parking\")\n",
    "tc.numColWithinRange(0, 1000000000000).show()\n",
    "tc.timeColWithinRange(datetime.datetime(1994,1,1), datetime.datetime(2018,5,1)).show()"
   ]
  },
  {
   "cell_type": "code",
   "execution_count": 17,
   "metadata": {},
   "outputs": [],
   "source": [
    "tc = TableCollections(spark, sc)\n",
    "dirname = '/user/jp4989/open_data_csv/'\n",
    "found = False\n",
    "with open('data_ids', 'r') as g:\n",
    "    ids = g.readlines()\n",
    "    for each in ids:\n",
    "        if each.strip() == '54k3-2wtq':\n",
    "            found = True\n",
    "        if not found:\n",
    "            continue\n",
    "        filename = dirname+each.strip()+'.csv'\n",
    "        df = spark.read.format('csv').options(header='true',inferschema='true').load(filename)\n",
    "        if not df.rdd.isEmpty():\n",
    "            tc.register(df, 'nyc_'+each.strip().replace('-','_'))"
   ]
  },
  {
   "cell_type": "code",
   "execution_count": 9,
   "metadata": {},
   "outputs": [],
   "source": [
    "tc = TableCollections(spark, sc)\n",
    "dirname = '/user/jp4989/open_data_csv/'\n",
    "with open('data_ids', 'r') as g:\n",
    "    ids = g.readlines()\n",
    "    for each in ids:\n",
    "        tc.add_registered_table_name('nyc_'+each.strip().replace('-','_'))\n",
    "        if each.strip() == '6m56-5mfb':\n",
    "            break"
   ]
  },
  {
   "cell_type": "code",
   "execution_count": 6,
   "metadata": {},
   "outputs": [
    {
     "name": "stdout",
     "output_type": "stream",
     "text": [
      "+--------------------+-------------+\n",
      "|             colName|    tableName|\n",
      "+--------------------+-------------+\n",
      "|City Council Dist...|nyc_22rf_yxcy|\n",
      "| Community Districts|nyc_22rf_yxcy|\n",
      "|  Borough Boundaries|nyc_22rf_yxcy|\n",
      "|    Police Precincts|nyc_22rf_yxcy|\n",
      "|         % Level 3+4|nyc_26kp_bgdh|\n",
      "|           % Level 2|nyc_26kp_bgdh|\n",
      "|           % Level 1|nyc_26kp_bgdh|\n",
      "|           % Level 3|nyc_26kp_bgdh|\n",
      "|  Average Class Size|nyc_276h_y36a|\n",
      "|          Level3+4_%|nyc_27h8_t3wt|\n",
      "|            Level2_%|nyc_27h8_t3wt|\n",
      "|            Level3_%|nyc_27h8_t3wt|\n",
      "|            district|nyc_27h8_t3wt|\n",
      "|            Level4_%|nyc_27h8_t3wt|\n",
      "|            Level1_%|nyc_27h8_t3wt|\n",
      "|            latitude|nyc_29km_avyc|\n",
      "|   Pct Level 3 and 4|nyc_2bh6_qmgg|\n",
      "|         Pct Level 3|nyc_2bh6_qmgg|\n",
      "|         Pct Level 4|nyc_2bh6_qmgg|\n",
      "|         Pct Level 2|nyc_2bh6_qmgg|\n",
      "+--------------------+-------------+\n",
      "only showing top 20 rows\n",
      "\n"
     ]
    }
   ],
   "source": [
    "tc.numColWithinRange(0, 100).show()"
   ]
  },
  {
   "cell_type": "code",
   "execution_count": 7,
   "metadata": {},
   "outputs": [
    {
     "name": "stdout",
     "output_type": "stream",
     "text": [
      "+---------+-------------+\n",
      "|  colName|    tableName|\n",
      "+---------+-------------+\n",
      "|longitude|nyc_29km_avyc|\n",
      "|Longitude|nyc_2fra_mtpn|\n",
      "|Longitude|nyc_2n4x_d97d|\n",
      "|Longitude|nyc_2q48_ip9a|\n",
      "|  Borough|nyc_35f6_8qd2|\n",
      "|Longitude|nyc_35sw_rdxj|\n",
      "|Longitude|nyc_36hn_wea6|\n",
      "|Longitude|nyc_37fm_7uaa|\n",
      "|Longitude|nyc_37it_gmcp|\n",
      "|Longitude|nyc_3qfc_4tta|\n",
      "|Longitude|nyc_3rfa_3xsf|\n",
      "|Longitude|nyc_3spy_rjpw|\n",
      "|Longitude|nyc_48pb_zy2g|\n",
      "|Longitude|nyc_4wf2_7kdu|\n",
      "|Longitude|nyc_4zdr_zwdi|\n",
      "|Longitude|nyc_56u5_n9sa|\n",
      "|Longitude|nyc_57mv_nv28|\n",
      "|Longitude|nyc_59kj_x8nc|\n",
      "|Longitude|nyc_59t5_r7nb|\n",
      "|Longitude|nyc_5e24_x4wa|\n",
      "+---------+-------------+\n",
      "only showing top 20 rows\n",
      "\n"
     ]
    }
   ],
   "source": [
    "# return NYC longitude columns\n",
    "tc.numColWithinRange(-76, -70).show()"
   ]
  },
  {
   "cell_type": "code",
   "execution_count": 8,
   "metadata": {},
   "outputs": [
    {
     "name": "stdout",
     "output_type": "stream",
     "text": [
      "+--------+-------------+\n",
      "| colName|    tableName|\n",
      "+--------+-------------+\n",
      "|latitude|nyc_29km_avyc|\n",
      "|Latitude|nyc_2fra_mtpn|\n",
      "|Latitude|nyc_2n4x_d97d|\n",
      "|Latitude|nyc_2q48_ip9a|\n",
      "|Latitude|nyc_35sw_rdxj|\n",
      "|Latitude|nyc_36hn_wea6|\n",
      "|Latitude|nyc_37fm_7uaa|\n",
      "|Latitude|nyc_37it_gmcp|\n",
      "|Latitude|nyc_3qfc_4tta|\n",
      "|Latitude|nyc_3rfa_3xsf|\n",
      "|Latitude|nyc_3spy_rjpw|\n",
      "|Latitude|nyc_48pb_zy2g|\n",
      "|Latitude|nyc_4wf2_7kdu|\n",
      "|Latitude|nyc_4zdr_zwdi|\n",
      "|Latitude|nyc_56u5_n9sa|\n",
      "|Latitude|nyc_57mv_nv28|\n",
      "|Latitude|nyc_59kj_x8nc|\n",
      "|Latitude|nyc_59t5_r7nb|\n",
      "|Latitude|nyc_5e24_x4wa|\n",
      "|Latitude|nyc_5fn4_dr26|\n",
      "+--------+-------------+\n",
      "only showing top 20 rows\n",
      "\n"
     ]
    }
   ],
   "source": [
    "# return NYC latitude columns\n",
    "tc.numColWithinRange(39, 43).show()"
   ]
  },
  {
   "cell_type": "code",
   "execution_count": 9,
   "metadata": {},
   "outputs": [
    {
     "name": "stdout",
     "output_type": "stream",
     "text": [
      "+-------+---------+\n",
      "|colName|tableName|\n",
      "+-------+---------+\n",
      "+-------+---------+\n",
      "\n"
     ]
    }
   ],
   "source": [
    "# return columns between 0 and 1\n",
    "tc.numColWithinRange(0, 1).show()"
   ]
  },
  {
   "cell_type": "code",
   "execution_count": 10,
   "metadata": {},
   "outputs": [
    {
     "name": "stdout",
     "output_type": "stream",
     "text": [
      "+--------------------+-------------+\n",
      "|             colName|    tableName|\n",
      "+--------------------+-------------+\n",
      "|Unregistered Vehi...|nyc_2bnn_yakx|\n",
      "|COUNT PUBLIC ASSI...|nyc_2t32_hbca|\n",
      "|COUNT CITIZEN STA...|nyc_2t32_hbca|\n",
      "|PERCENT GENDER UN...|nyc_2t32_hbca|\n",
      "|COUNT PACIFIC ISL...|nyc_2t32_hbca|\n",
      "|COUNT AMERICAN IN...|nyc_2t32_hbca|\n",
      "|COUNT GENDER UNKNOWN|nyc_2t32_hbca|\n",
      "|        Derived View|nyc_56b7_s9t5|\n",
      "|Average Minors pe...|nyc_5r5y_pvs3|\n",
      "|            Latitude|nyc_656a_faqy|\n",
      "|PERCENT NRECEIVES...|nyc_6bic_qvek|\n",
      "|PERCENT RECEIVES ...|nyc_6bic_qvek|\n",
      "|PERCENT PUBLIC AS...|nyc_6bic_qvek|\n",
      "|PERCENT PERMANENT...|nyc_6bic_qvek|\n",
      "|COUNT PUBLIC ASSI...|nyc_6bic_qvek|\n",
      "|PERCENT CITIZEN S...|nyc_6bic_qvek|\n",
      "|PERCENT OTHER CIT...|nyc_6bic_qvek|\n",
      "|COUNT CITIZEN STA...|nyc_6bic_qvek|\n",
      "|PERCENT WHITE NON...|nyc_6bic_qvek|\n",
      "|PERCENT ASIAN NON...|nyc_6bic_qvek|\n",
      "+--------------------+-------------+\n",
      "only showing top 20 rows\n",
      "\n"
     ]
    }
   ],
   "source": [
    "# return columns between 0 and 1\n",
    "tc.numColWithinRange(-0.1, 1.1).show()"
   ]
  },
  {
   "cell_type": "code",
   "execution_count": 12,
   "metadata": {},
   "outputs": [
    {
     "name": "stdout",
     "output_type": "stream",
     "text": [
      "+--------+----------+----------+\n",
      "| colName|       min|       max|\n",
      "+--------+----------+----------+\n",
      "|Latitude|  40.76135| 40.769233|\n",
      "|latitude| 40.508283| 40.906225|\n",
      "| Borough|-74.124757|-74.022721|\n",
      "+--------+----------+----------+\n",
      "\n"
     ]
    }
   ],
   "source": [
    "tc.getNumRange([\"nyc_2n4x_d97d^Latitude\", \"nyc_29km_avyc^latitude\", \"nyc_35f6_8qd2^Borough\"]).show()"
   ]
  },
  {
   "cell_type": "code",
   "execution_count": null,
   "metadata": {},
   "outputs": [],
   "source": []
  }
 ],
 "metadata": {
  "kernelspec": {
   "display_name": "Python 3",
   "language": "python",
   "name": "python3"
  },
  "language_info": {
   "codemirror_mode": {
    "name": "ipython",
    "version": 3
   },
   "file_extension": ".py",
   "mimetype": "text/x-python",
   "name": "python",
   "nbconvert_exporter": "python",
   "pygments_lexer": "ipython3",
   "version": "3.4.4"
  }
 },
 "nbformat": 4,
 "nbformat_minor": 2
}
