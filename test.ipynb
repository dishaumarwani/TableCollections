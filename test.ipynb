{
 "cells": [
  {
   "cell_type": "code",
   "execution_count": 21,
   "metadata": {},
   "outputs": [],
   "source": [
    "spark.stop()\n",
    "sc.stop()"
   ]
  },
  {
   "cell_type": "code",
   "execution_count": 22,
   "metadata": {},
   "outputs": [],
   "source": [
    "import findspark\n",
    "findspark.init()"
   ]
  },
  {
   "cell_type": "code",
   "execution_count": 23,
   "metadata": {},
   "outputs": [],
   "source": [
    "from pyspark.sql import SparkSession\n",
    "from pyspark.sql import Row\n",
    "import sys\n",
    "import string\n",
    "from csv import reader\n",
    "from functools import reduce\n",
    "from pyspark.sql import functions as f\n",
    "from collections import defaultdict\n",
    "import datetime"
   ]
  },
  {
   "cell_type": "code",
   "execution_count": 24,
   "metadata": {},
   "outputs": [],
   "source": [
    "spark = SparkSession \\\n",
    "                .builder \\\n",
    "                .appName(\"TableCollections\") \\\n",
    "                .config(\"spark.some.config.option\", \"some-value\") \\\n",
    "                .getOrCreate()\n",
    "sc = spark.sparkContext"
   ]
  },
  {
   "cell_type": "code",
   "execution_count": 4,
   "metadata": {},
   "outputs": [],
   "source": [
    "parkingTable = spark.read.format('csv').options(header='true',inferschema='true').load('/user/ecc290/HW1data/parking-violations-header.csv')\n",
    "openTable = spark.read.format('csv').options(header='true',inferschema='true').load('/user/ecc290/HW1data/open-violations-header.csv')"
   ]
  },
  {
   "cell_type": "code",
   "execution_count": 25,
   "metadata": {},
   "outputs": [],
   "source": [
    "from pyspark.sql import SparkSession\n",
    "from pyspark.sql import Row\n",
    "import sys\n",
    "import string\n",
    "from csv import reader\n",
    "from functools import reduce\n",
    "from pyspark.sql import functions as f\n",
    "from collections import defaultdict\n",
    "import datetime\n",
    "from pyspark.sql.types import StructType, StructField, IntegerType, DoubleType, TimestampType, StringType\n",
    "\n",
    "class TableCollections:\n",
    "    def __init__(self,spark,sc):\n",
    "        self.spark = spark\n",
    "        self.sc = sc\n",
    "        self.tableNames = []\n",
    "        self.fs = self.sc._jvm.org.apache.hadoop.fs.FileSystem.get(sc._jsc.hadoopConfiguration())\n",
    "        \n",
    "    def add_registered_table_name(self, name):\n",
    "        self.tableNames.append(name)\n",
    "        \n",
    "    def register(self, df, name):\n",
    "        # Clean up column names so that we can prevent future errors\n",
    "        for colName, dtype in df.dtypes:\n",
    "            if '.' in colName or '`' in colName or colName.strip() != colName:\n",
    "                df = df.withColumnRenamed(colName, colName.strip().replace(\".\", \"\").replace(\"`\", \"\"))\n",
    "\n",
    "        # track down which tables have been registered to the class\n",
    "        self.tableNames.append(name)\n",
    "        numFileName = name + \"_num_metadata.csv\"\n",
    "        timeFileName = name + \"_time_metadata.csv\"\n",
    "        stringFileName = name + \"_string_metadata.csv\"\n",
    "        num_cols, time_cols, string_cols = [], [], []\n",
    "        df.createOrReplaceTempView(name) # can be problematic\n",
    "\n",
    "        # put column names into appropriate bin\n",
    "        for colName, dtype in df.dtypes:\n",
    "            if dtype == 'timestamp':\n",
    "                time_cols.append(colName)\n",
    "            elif dtype == 'string':\n",
    "                string_cols.append(colName)\n",
    "            else:\n",
    "                num_cols.append(colName)\n",
    "\n",
    "        # For each datatype of columns, process metadata\n",
    "        if not self.fs.exists(self.sc._jvm.org.apache.hadoop.fs.Path(numFileName)):\n",
    "            self.createNumMetadata(df, num_cols, numFileName)\n",
    "        else:\n",
    "            print(\"num metadata file exists for table {}\".format(name))\n",
    "        if not self.fs.exists(self.sc._jvm.org.apache.hadoop.fs.Path(timeFileName)):\n",
    "            self.createTimeMetadata(df, time_cols, timeFileName)\n",
    "        else:\n",
    "            print(\"timestamp metadata file exists for table {}\".format(name))\n",
    "\n",
    "    def createTimeMetadata(self, df, time_cols, timeFileName):\n",
    "        for colName in time_cols:\n",
    "            minMax = df.agg(f.min(df[colName]), f.max(df[colName])).collect()[0]\n",
    "            metaDf = self.sc.parallelize([\n",
    "                    (colName,minMax[0].strftime(\"%Y-%m-%d %H:%M:%S\"),minMax[1].strftime(\"%Y-%m-%d %H:%M:%S\"))]).toDF([\"colName\",\"min\",\"max\"])\n",
    "            metaDf.write.save(path=timeFileName, header=\"false\", format='csv', mode='append', sep = '^')\n",
    "\n",
    "    def createNumMetadata(self, df, num_cols, numFileName):\n",
    "        describeTable = df[num_cols].describe().collect()\n",
    "        \n",
    "        for colName in num_cols:\n",
    "            metaDf = self.sc.parallelize([\n",
    "                     (colName,float(describeTable[3][colName]),float(describeTable[4][colName]))]).toDF([\"colName\",\"min\",\"max\"])\n",
    "            metaDf.write.save(path=numFileName, header=\"false\", format='csv', mode='append', sep = '^')\n",
    "\n",
    "    def timeColWithinRange(self, minTime, maxTime):\n",
    "        resultCreated = False\n",
    "        if type(minTime) != datetime.datetime or type(maxTime) != datetime.datetime:\n",
    "            raise TypeError(\"minNum, maxNum must be timestamp\")\n",
    "            \n",
    "        schema = StructType([\n",
    "            StructField(\"colName\", StringType(), True),\n",
    "            StructField(\"min\", TimestampType(), True),\n",
    "            StructField(\"max\", TimestampType(), True)])\n",
    "        \n",
    "        for each in self.tableNames:\n",
    "            filename = each + '_time_metadata.csv'\n",
    "            if self.fs.exists(self.sc._jvm.org.apache.hadoop.fs.Path(filename)):\n",
    "                currentTable = spark.read.csv(filename,header=False,schema=schema, sep='^')\n",
    "                if not resultCreated:\n",
    "                    resultDf = currentTable.where(currentTable.min>minTime).where(currentTable.max<maxTime).select(currentTable.colName).withColumn(\"tableName\", f.lit(each))\n",
    "                    resultCreated = True\n",
    "                else:\n",
    "                    resultDf = resultDf.union(currentTable.where(currentTable.min>minTime).where(currentTable.max<maxTime).select(currentTable.colName).withColumn(\"tableName\", f.lit(each)))\n",
    "\n",
    "        return resultDf\n",
    "\n",
    "    def numColWithinRange(self, minNum, maxNum):\n",
    "        # int, bigint, float, long\n",
    "        resultCreated = False\n",
    "        if type(minNum) == datetime.datetime or \\\n",
    "            type(minNum) == str or \\\n",
    "            type(maxNum) == datetime.datetime or \\\n",
    "            type(maxNum) == str:\n",
    "            raise TypeError(\"minNum, maxNum must be number\")\n",
    "            \n",
    "        schema = StructType([\n",
    "            StructField(\"colName\", StringType(), True),\n",
    "            StructField(\"min\", DoubleType(), True),\n",
    "            StructField(\"max\", DoubleType(), True)])\n",
    "        \n",
    "        for each in self.tableNames:\n",
    "            filename = each + '_num_metadata.csv'\n",
    "            if self.fs.exists(self.sc._jvm.org.apache.hadoop.fs.Path(filename)):\n",
    "                currentTable = spark.read.csv(filename,header=False,schema=schema, sep='^')\n",
    "                if not resultCreated:\n",
    "                    resultDf = currentTable.where(currentTable.min>minNum).where(currentTable.max<maxNum).select(currentTable.colName).withColumn(\"tableName\", f.lit(each))\n",
    "                    resultCreated = True\n",
    "                else:\n",
    "                    resultDf = resultDf.union(currentTable.where(currentTable.min>minNum).where(currentTable.max<maxNum).select(currentTable.colName).withColumn(\"tableName\",f.lit(each)))\n",
    "        return resultDf"
   ]
  },
  {
   "cell_type": "code",
   "execution_count": 16,
   "metadata": {},
   "outputs": [
    {
     "name": "stdout",
     "output_type": "stream",
     "text": [
      "num metadata file exists for table open\n",
      "num metadata file exists for table parking\n",
      "timestamp metadata file exists for table parking\n",
      "+--------------+---------+\n",
      "|       colName|tableName|\n",
      "+--------------+---------+\n",
      "|summons_number|     open|\n",
      "|   fine_amount|     open|\n",
      "|summons_number|  parking|\n",
      "|violation_code|  parking|\n",
      "+--------------+---------+\n",
      "\n",
      "+----------+---------+\n",
      "|   colName|tableName|\n",
      "+----------+---------+\n",
      "|issue_date|  parking|\n",
      "+----------+---------+\n",
      "\n"
     ]
    }
   ],
   "source": [
    "tc = TableCollections(spark, sc)\n",
    "tc.register(openTable, \"open\")\n",
    "tc.register(parkingTable, \"parking\")\n",
    "tc.numColWithinRange(0, 1000000000000).show()\n",
    "tc.timeColWithinRange(datetime.datetime(1994,1,1), datetime.datetime(2018,5,1)).show()"
   ]
  },
  {
   "cell_type": "code",
   "execution_count": 17,
   "metadata": {},
   "outputs": [],
   "source": []
  },
  {
   "cell_type": "code",
   "execution_count": null,
   "metadata": {},
   "outputs": [],
   "source": [
    "tc = TableCollections(spark, sc)\n",
    "dirname = '/user/jp4989/open_data_csv/'\n",
    "with open('data_ids', 'r') as f:\n",
    "    ids = f.readlines()\n",
    "    for each in ids:\n",
    "        filename = dirname+each.strip()+'.csv'\n",
    "        df = spark.read.format('csv').options(header='true',inferschema='true').load(filename)\n",
    "        if not df.rdd.isEmpty():\n",
    "            tc.register(df, 'nyc_'+each.strip().replace('-','_'))"
   ]
  },
  {
   "cell_type": "code",
   "execution_count": null,
   "metadata": {},
   "outputs": [],
   "source": []
  },
  {
   "cell_type": "code",
   "execution_count": null,
   "metadata": {},
   "outputs": [],
   "source": []
  },
  {
   "cell_type": "code",
   "execution_count": null,
   "metadata": {},
   "outputs": [],
   "source": []
  },
  {
   "cell_type": "code",
   "execution_count": null,
   "metadata": {},
   "outputs": [],
   "source": []
  }
 ],
 "metadata": {
  "kernelspec": {
   "display_name": "Python 3",
   "language": "python",
   "name": "python3"
  },
  "language_info": {
   "codemirror_mode": {
    "name": "ipython",
    "version": 3
   },
   "file_extension": ".py",
   "mimetype": "text/x-python",
   "name": "python",
   "nbconvert_exporter": "python",
   "pygments_lexer": "ipython3",
   "version": "3.4.4"
  }
 },
 "nbformat": 4,
 "nbformat_minor": 2
}
