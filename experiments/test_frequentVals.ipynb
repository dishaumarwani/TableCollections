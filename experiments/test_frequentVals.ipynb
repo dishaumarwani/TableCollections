{
 "cells": [
  {
   "cell_type": "code",
   "execution_count": 1,
   "metadata": {},
   "outputs": [],
   "source": [
    "from pyspark.sql import SparkSession\n",
    "from pyspark.sql import Row\n",
    "import sys\n",
    "import string\n",
    "from csv import reader\n",
    "from functools import reduce\n",
    "from pyspark.sql import functions as f\n",
    "from collections import defaultdict\n",
    "import datetime\n",
    "from tableCollections import TableCollections"
   ]
  },
  {
   "cell_type": "code",
   "execution_count": 2,
   "metadata": {},
   "outputs": [],
   "source": [
    "spark = SparkSession \\\n",
    "                .builder \\\n",
    "                .appName(\"TableCollections\") \\\n",
    "                .config(\"spark.some.config.option\", \"some-value\") \\\n",
    "                .getOrCreate()\n",
    "sc = spark.sparkContext\n",
    "\n",
    "parkingTable = spark.read.format('csv').options(header='true',inferschema='true').load('/user/ecc290/HW1data/parking-violations-header.csv')\n",
    "openTable = spark.read.format('csv').options(header='true',inferschema='true').load('/user/ecc290/HW1data/open-violations-header.csv')"
   ]
  },
  {
   "cell_type": "markdown",
   "metadata": {},
   "source": [
    "## Query: frequentVals()\n",
    "Input: list of columns (possibly from multiple tables), integer topN  \n",
    "Output: topN rows from union of the columns with topN frequency"
   ]
  },
  {
   "cell_type": "code",
   "execution_count": 3,
   "metadata": {},
   "outputs": [
    {
     "name": "stdout",
     "output_type": "stream",
     "text": [
      "num metadata file exists for table open\n",
      "string metadata file exists for table open\n",
      "num metadata file exists for table parking\n",
      "timestamp metadata file exists for table parking\n",
      "string metadata file exists for table parking\n",
      "+----------+----+--------+\n",
      "| col_value| cnt|col_name|\n",
      "+----------+----+--------+\n",
      "|BLANKPLATE|1203|plate_id|\n",
      "|BLANKPLATE| 872|   plate|\n",
      "|       N/A| 155|plate_id|\n",
      "|       N/A| 149|   plate|\n",
      "|    AP501F| 138|plate_id|\n",
      "|   56207MG| 125|plate_id|\n",
      "|   96087MA| 117|plate_id|\n",
      "|   20302TC| 117|plate_id|\n",
      "|    AR290A| 116|plate_id|\n",
      "|   12359MG| 110|plate_id|\n",
      "+----------+----+--------+\n",
      "\n"
     ]
    }
   ],
   "source": [
    "tc = TableCollections(spark, sc)\n",
    "tc.register(openTable, \"open\")\n",
    "tc.register(parkingTable, \"parking\")\n",
    "columns = [\"parking^plate_id\", \"open^plate\"]\n",
    "tc.frequentVals(columns, 10).show()"
   ]
  },
  {
   "cell_type": "code",
   "execution_count": null,
   "metadata": {},
   "outputs": [],
   "source": []
  }
 ],
 "metadata": {
  "kernelspec": {
   "display_name": "Python 3",
   "language": "python",
   "name": "python3"
  },
  "language_info": {
   "codemirror_mode": {
    "name": "ipython",
    "version": 3
   },
   "file_extension": ".py",
   "mimetype": "text/x-python",
   "name": "python",
   "nbconvert_exporter": "python",
   "pygments_lexer": "ipython3",
   "version": "3.6.4"
  }
 },
 "nbformat": 4,
 "nbformat_minor": 2
}
