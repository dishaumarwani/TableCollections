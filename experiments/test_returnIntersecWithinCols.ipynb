{
 "cells": [
  {
   "cell_type": "code",
   "execution_count": 1,
   "metadata": {},
   "outputs": [],
   "source": [
    "from pyspark.sql import SparkSession\n",
    "from pyspark.sql import Row\n",
    "import sys\n",
    "import string\n",
    "from csv import reader\n",
    "from functools import reduce\n",
    "from pyspark.sql import functions as f\n",
    "from collections import defaultdict\n",
    "import datetime\n",
    "sys.path.insert(0, '../src')\n",
    "from tableCollections import TableCollections"
   ]
  },
  {
   "cell_type": "code",
   "execution_count": 2,
   "metadata": {},
   "outputs": [],
   "source": [
    "spark = SparkSession \\\n",
    "                .builder \\\n",
    "                .appName(\"TableCollections\") \\\n",
    "                .config(\"spark.some.config.option\", \"some-value\") \\\n",
    "                .getOrCreate()\n",
    "sc = spark.sparkContext\n",
    "\n",
    "parkingTable = spark.read.format('csv').options(header='true',inferschema='true').load('/user/ecc290/HW1data/parking-violations-header.csv')\n",
    "openTable = spark.read.format('csv').options(header='true',inferschema='true').load('/user/ecc290/HW1data/open-violations-header.csv')"
   ]
  },
  {
   "cell_type": "code",
   "execution_count": 3,
   "metadata": {},
   "outputs": [
    {
     "name": "stdout",
     "output_type": "stream",
     "text": [
      "num metadata file exists for table open\n",
      "string metadata file exists for table open\n",
      "num metadata file exists for table parking\n",
      "timestamp metadata file exists for table parking\n",
      "string metadata file exists for table parking\n",
      "+---------+-----+\n",
      "|col_value|count|\n",
      "+---------+-----+\n",
      "|  GWR6544|    2|\n",
      "|  GMZ6430|    2|\n",
      "|  GTZ3429|    2|\n",
      "|  GWH8612|    2|\n",
      "|  GKJ3196|    2|\n",
      "|  HCT2162|    2|\n",
      "|  JKX3874|    2|\n",
      "|  JDA2966|    2|\n",
      "| MAGUJ0DE|    2|\n",
      "|  HAX7497|    2|\n",
      "| T682962C|    2|\n",
      "|  GFC7118|    2|\n",
      "|  GUX8085|    2|\n",
      "|  GYD6262|    2|\n",
      "|  GMB9512|    2|\n",
      "|  GZC3304|    2|\n",
      "|  HFA1602|    2|\n",
      "|  HBU4498|    2|\n",
      "|  HCN8863|    2|\n",
      "|  GXN8364|    2|\n",
      "+---------+-----+\n",
      "only showing top 20 rows\n",
      "\n"
     ]
    }
   ],
   "source": [
    "tc = TableCollections(spark, sc)\n",
    "tc.register(openTable, \"open\")\n",
    "tc.register(parkingTable, \"parking\")\n",
    "columns = [\"parking^plate_id\", \"open^plate\"]\n",
    "tc.returnIntersecWithinCols(columns).show()"
   ]
  },
  {
   "cell_type": "code",
   "execution_count": null,
   "metadata": {},
   "outputs": [],
   "source": []
  }
 ],
 "metadata": {
  "kernelspec": {
   "display_name": "Python 3",
   "language": "python",
   "name": "python3"
  },
  "language_info": {
   "codemirror_mode": {
    "name": "ipython",
    "version": 3
   },
   "file_extension": ".py",
   "mimetype": "text/x-python",
   "name": "python",
   "nbconvert_exporter": "python",
   "pygments_lexer": "ipython3",
   "version": "3.4.4"
  }
 },
 "nbformat": 4,
 "nbformat_minor": 2
}
